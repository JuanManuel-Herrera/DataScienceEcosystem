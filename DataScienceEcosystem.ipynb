{
 "cells": [
  {
   "cell_type": "markdown",
   "metadata": {},
   "source": [
    "Herramitas y Ecosistemas de Ciencia de Datos"
   ]
  },
  {
   "cell_type": "code",
   "execution_count": null,
   "metadata": {
    "jupyter": {
     "source_hidden": true
    }
   },
   "outputs": [],
   "source": [
    "In this notebook, Data Science Tools and Ecosystem are summarized. Through various exercises, we will explore key data science languages, libraries, tools, and simple arithmetic operations using Python."
   ]
  },
  {
   "cell_type": "code",
   "execution_count": null,
   "metadata": {},
   "outputs": [],
   "source": [
    "**Nota**: The Excercise 1 is the creation of this Jupyter Notebook"
   ]
  },
  {
   "cell_type": "code",
   "execution_count": null,
   "metadata": {},
   "outputs": [],
   "source": [
    "**Note**: The Excercise 2 consist in making the Title"
   ]
  },
  {
   "cell_type": "code",
   "execution_count": null,
   "metadata": {},
   "outputs": [],
   "source": [
    "**Note**: The Excercise 3 is the previous introduction to this Jupyter Notebook"
   ]
  },
  {
   "cell_type": "code",
   "execution_count": null,
   "metadata": {},
   "outputs": [],
   "source": [
    "Ejercicio 4 - Crear una célula de marca para listar los idiomas de ciencia de datos\n",
    "\n",
    "Algunos de los lenguajes populares que utilizan los Data Scientists son:\n",
    "\n",
    "    Pitón\n",
    "    R\n",
    "    SQL\n",
    "    Julia\n",
    "    Java\n",
    "\n"
   ]
  },
  {
   "cell_type": "code",
   "execution_count": null,
   "metadata": {},
   "outputs": [],
   "source": [
    "Ejercicio 5 - Crear una célula de reducción para listar bibliotecas de ciencia de datos\n",
    "\n",
    "Algunas de las bibliotecas de uso común usadas por Data Scientists incluyen:\n",
    "\n",
    "    Pandas\n",
    "    NumPy\n",
    "    Matplotlib\n",
    "    Aprender de ciencia\n",
    "    TensorFlow\n"
   ]
  },
  {
   "cell_type": "markdown",
   "metadata": {},
   "source": [
    "Ejercicio 6 - Crear una célula de reducción con una tabla de herramientas de ciencia de datos\n",
    "\n",
    "Herramitas de ciencia de datos\n",
    "Cuaderno de jupyter\n",
    "RStudio\n",
    "Apache Zeppelin"
   ]
  },
  {
   "cell_type": "code",
   "execution_count": null,
   "metadata": {},
   "outputs": [],
   "source": [
    "Ejercicio 7 - Crear una célula de marcación introduciendo ejemplos de expresión aritmética\n",
    "\n",
    "A continuación se presentan algunos ejemplos de evaluación de expresiones aritméticas en Python.\n",
    "\n",
    "1) Adición: 5 + 3 = 8\n",
    "2) Sustracción: 10 - 4 = 6\n",
    "3) Multiplicación: 3 * 7 = 21\n",
    "4) División: 16 / 2 = 8\n",
    "5) Exponenación: 2 ** 3 = 8\n",
    "6) Parentesis y operaciones mixtas: (3 * 4) + 5 = 17\n",
    "7) Operaciones mixtas con exponentes y división:\n",
    "    2 ** 3 / 4 + 5 = 7.0\n",
    "8) Parentesis con operaciones anidadas:\n",
    "(5 + (3 * 4)) - 2 = 15\n",
    "9) Exponación y raíces cuadradas:\n",
    "16 ** (1/2) = 4.0(Era cuadrada de 16)\n",
    "10) Expresión compuesta con múltiples operaciones:\n",
    "(3 * 4) + (5 ** 2) - (18 / 3) = 31.0\n",
    "\n"
   ]
  },
  {
   "cell_type": "code",
   "execution_count": null,
   "metadata": {},
   "outputs": [],
   "source": [
    "Ejercicio 8 - Crear una celda de código para multiplicar y añadir números"
   ]
  },
  {
   "cell_type": "code",
   "execution_count": null,
   "metadata": {},
   "outputs": [],
   "source": [
    "# This is a simple arithmetic expression to multiply then add integers\n",
    "(3 * 4) + 5"
   ]
  },
  {
   "cell_type": "code",
   "execution_count": null,
   "metadata": {},
   "outputs": [],
   "source": [
    "Ejercicio 9 - Crear una celda de código para convertir minutos en horas# This will convert 200 minutes to hours by dividing by 60\n",
    "200 / 60"
   ]
  },
  {
   "cell_type": "code",
   "execution_count": null,
   "metadata": {},
   "outputs": [],
   "source": [
    "3.33333333333333333535"
   ]
  },
  {
   "cell_type": "code",
   "execution_count": null,
   "metadata": {},
   "outputs": [],
   "source": [
    "Ejercicio 10 - Insertar una celda de reducción de marca para listar Objetivos"
   ]
  },
  {
   "cell_type": "code",
   "execution_count": null,
   "metadata": {},
   "outputs": [],
   "source": [
    "**Objectives:**\n",
    "\n",
    "- List popular languages for Data Science\n",
    "- Identify commonly used Data Science libraries\n",
    "- Explore different open-source Data Science tools\n",
    "- Perform basic arithmetic operations in Python\n",
    "- Understand the process of converting units in Python (e.g., minutes to hours)"
   ]
  },
  {
   "cell_type": "code",
   "execution_count": null,
   "metadata": {},
   "outputs": [],
   "source": [
    "## Exercise 11 - Create a markdown cell to indicate the Author's name"
   ]
  },
  {
   "cell_type": "code",
   "execution_count": null,
   "metadata": {},
   "outputs": [],
   "source": [
    "## Author\n",
    "Juan Manuel Herrera Chávez"
   ]
  }
 ],
 "metadata": {
  "kernelspec": {
   "display_name": "Python 3 (ipykernel)",
   "language": "python",
   "name": "python3"
  },
  "language_info": {
   "codemirror_mode": {
    "name": "ipython",
    "version": 3
   },
   "file_extension": ".py",
   "mimetype": "text/x-python",
   "name": "python",
   "nbconvert_exporter": "python",
   "pygments_lexer": "ipython3",
   "version": "3.11.9"
  }
 },
 "nbformat": 4,
 "nbformat_minor": 4
}
